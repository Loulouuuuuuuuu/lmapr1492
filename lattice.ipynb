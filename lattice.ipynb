{
 "cells": [
  {
   "cell_type": "code",
   "execution_count": 25,
   "id": "8e41b492",
   "metadata": {},
   "outputs": [],
   "source": [
    "# importations\n",
    "from pymatgen.symmetry.analyzer import SpacegroupAnalyzer\n",
    "from pymatgen.ext.matproj import MPRester"
   ]
  },
  {
   "cell_type": "code",
   "execution_count": 26,
   "id": "68479a66",
   "metadata": {},
   "outputs": [],
   "source": [
    "# ma clé personnelle et mon matériau\n",
    "mp_key = \"W8CQwCBdr2wTPWJ30EYXBEMHt65P5TIk\"\n",
    "mp_id = \"mp-31454\""
   ]
  },
  {
   "cell_type": "code",
   "execution_count": 27,
   "id": "f312daca",
   "metadata": {},
   "outputs": [
    {
     "data": {
      "application/vnd.jupyter.widget-view+json": {
       "model_id": "ab3c319bc18b4628959d1ca816201423",
       "version_major": 2,
       "version_minor": 0
      },
      "text/plain": [
       "Retrieving MaterialsDoc documents:   0%|          | 0/1 [00:00<?, ?it/s]"
      ]
     },
     "metadata": {},
     "output_type": "display_data"
    }
   ],
   "source": [
    "# extraction des informations sur le matériau dans materialsproject\n",
    "with MPRester(mp_key) as m:\n",
    "    prim_struc = m.get_structure_by_material_id(mp_id)"
   ]
  },
  {
   "cell_type": "code",
   "execution_count": 28,
   "id": "efe4e2d5",
   "metadata": {},
   "outputs": [
    {
     "name": "stdout",
     "output_type": "stream",
     "text": [
      "vecteurs de bases du réseau direct:\n",
      "a =  [3.77129789 0.         2.17736032]\n",
      "b =  [1.2570993  3.5556129  2.17736032]\n",
      "c =  [1.00000000e-08 0.00000000e+00 4.35471861e+00]\n",
      "\n",
      "\n",
      "vecteurs de bases du réseau réciproque:\n",
      "a* =  [ 1.66605384e+00 -5.89039122e-01 -3.82585876e-09]\n",
      "b* =  [0.         1.76711737 0.        ]\n",
      "c* =  [-0.83302731 -0.5890394   1.44284531]\n",
      "\n",
      "\n",
      "type de maille:\n",
      "F\n",
      "\n",
      "\n",
      "système cristallin:\n",
      "cubic\n",
      "\n",
      "\n",
      "groupe ponctuel:\n",
      "-43m\n"
     ]
    }
   ],
   "source": [
    "# TÂCHE 4 :\n",
    "\n",
    "print(\"vecteurs de bases du réseau direct:\")\n",
    "lattice = prim_struc.lattice\n",
    "print(\"a = \", lattice.matrix[0])\n",
    "print(\"b = \", lattice.matrix[1])\n",
    "print(\"c = \", lattice.matrix[2])\n",
    "print(\"\\n\")\n",
    "\n",
    "lattice_r = prim_struc.lattice.reciprocal_lattice\n",
    "print(\"vecteurs de bases du réseau réciproque:\")\n",
    "print(\"a* = \", lattice_r.matrix[0])\n",
    "print(\"b* = \", lattice_r.matrix[1])\n",
    "print(\"c* = \", lattice_r.matrix[2])\n",
    "print(\"\\n\")\n",
    "\n",
    "print(\"type de maille:\")\n",
    "print(SpacegroupAnalyzer(prim_struc).get_space_group_symbol()[0])\n",
    "print(\"\\n\")\n",
    "\n",
    "\n",
    "print(\"système cristallin:\")\n",
    "print(SpacegroupAnalyzer(prim_struc).get_crystal_system())\n",
    "print(\"\\n\")\n",
    "\n",
    "\n",
    "print(\"groupe ponctuel:\")\n",
    "print(SpacegroupAnalyzer(prim_struc).get_point_group_symbol())"
   ]
  }
 ],
 "metadata": {
  "kernelspec": {
   "display_name": "Python 3 (ipykernel)",
   "language": "python",
   "name": "python3"
  },
  "language_info": {
   "codemirror_mode": {
    "name": "ipython",
    "version": 3
   },
   "file_extension": ".py",
   "mimetype": "text/x-python",
   "name": "python",
   "nbconvert_exporter": "python",
   "pygments_lexer": "ipython3",
   "version": "3.9.13"
  }
 },
 "nbformat": 4,
 "nbformat_minor": 5
}
